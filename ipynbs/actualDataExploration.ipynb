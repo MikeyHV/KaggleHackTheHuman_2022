{
 "cells": [
  {
   "cell_type": "code",
   "execution_count": 1,
   "id": "91dc388e-83b6-4b91-8252-46ec0f02812f",
   "metadata": {},
   "outputs": [
    {
     "name": "stdout",
     "output_type": "stream",
     "text": [
      "C:\\Users\\mvill\\Desktop\\School\\KaggleHackTheHuman_2022\n"
     ]
    }
   ],
   "source": [
    "cd ../"
   ]
  },
  {
   "cell_type": "code",
   "execution_count": 38,
   "id": "18164065-2b76-4253-908f-836396aad9be",
   "metadata": {},
   "outputs": [],
   "source": [
    "import pandas as pd\n",
    "import matplotlib.pyplot as plt\n",
    "import numpy as np"
   ]
  },
  {
   "cell_type": "code",
   "execution_count": 3,
   "id": "5fdbc5ef-aae9-4fa9-a580-e0cb0990ea3e",
   "metadata": {},
   "outputs": [
    {
     "name": "stdout",
     "output_type": "stream",
     "text": [
      " Volume in drive C has no label.\n",
      " Volume Serial Number is 7682-30C3\n",
      "\n",
      " Directory of C:\\Users\\mvill\\Desktop\\School\\KaggleHackTheHuman_2022\n",
      "\n",
      "07/12/2022  18:21    <DIR>          .\n",
      "07/12/2022  18:21    <DIR>          ..\n",
      "07/12/2022  18:21             1,970 .gitignore\n",
      "07/12/2022  18:21            45,873 inference-fastai-baseline.ipynb\n",
      "07/12/2022  18:26    <DIR>          ipynbs\n",
      "07/12/2022  18:21               296 README.md\n",
      "07/12/2022  18:21                21 sample_submission.csv\n",
      "07/12/2022  18:21               111 test.csv\n",
      "07/12/2022  18:21        16,367,208 train.csv\n",
      "               6 File(s)     16,415,479 bytes\n",
      "               3 Dir(s)  80,626,569,216 bytes free\n"
     ]
    }
   ],
   "source": [
    "ls"
   ]
  },
  {
   "cell_type": "code",
   "execution_count": 4,
   "id": "f9c85774-27db-460a-87e7-30759bdef5d0",
   "metadata": {},
   "outputs": [],
   "source": [
    "training = pd.read_csv(\"train.csv\")"
   ]
  },
  {
   "cell_type": "code",
   "execution_count": 5,
   "id": "0a9ddc3f-5bc6-4171-868c-d86670d6824c",
   "metadata": {},
   "outputs": [],
   "source": [
    "test = pd.read_csv(\"test.csv\")"
   ]
  },
  {
   "cell_type": "code",
   "execution_count": 20,
   "id": "fdaa5312-980f-456c-8508-69c87cf8a778",
   "metadata": {},
   "outputs": [
    {
     "data": {
      "text/html": [
       "<div>\n",
       "<style scoped>\n",
       "    .dataframe tbody tr th:only-of-type {\n",
       "        vertical-align: middle;\n",
       "    }\n",
       "\n",
       "    .dataframe tbody tr th {\n",
       "        vertical-align: top;\n",
       "    }\n",
       "\n",
       "    .dataframe thead th {\n",
       "        text-align: right;\n",
       "    }\n",
       "</style>\n",
       "<table border=\"1\" class=\"dataframe\">\n",
       "  <thead>\n",
       "    <tr style=\"text-align: right;\">\n",
       "      <th></th>\n",
       "      <th>id</th>\n",
       "      <th>organ</th>\n",
       "      <th>data_source</th>\n",
       "      <th>img_height</th>\n",
       "      <th>img_width</th>\n",
       "      <th>pixel_size</th>\n",
       "      <th>tissue_thickness</th>\n",
       "      <th>rle</th>\n",
       "      <th>age</th>\n",
       "      <th>sex</th>\n",
       "    </tr>\n",
       "  </thead>\n",
       "  <tbody>\n",
       "    <tr>\n",
       "      <th>0</th>\n",
       "      <td>10044</td>\n",
       "      <td>prostate</td>\n",
       "      <td>HPA</td>\n",
       "      <td>3000</td>\n",
       "      <td>3000</td>\n",
       "      <td>0.4</td>\n",
       "      <td>4</td>\n",
       "      <td>1459676 77 1462675 82 1465674 87 1468673 92 14...</td>\n",
       "      <td>37.0</td>\n",
       "      <td>Male</td>\n",
       "    </tr>\n",
       "    <tr>\n",
       "      <th>1</th>\n",
       "      <td>10274</td>\n",
       "      <td>prostate</td>\n",
       "      <td>HPA</td>\n",
       "      <td>3000</td>\n",
       "      <td>3000</td>\n",
       "      <td>0.4</td>\n",
       "      <td>4</td>\n",
       "      <td>715707 2 718705 8 721703 11 724701 18 727692 3...</td>\n",
       "      <td>76.0</td>\n",
       "      <td>Male</td>\n",
       "    </tr>\n",
       "    <tr>\n",
       "      <th>2</th>\n",
       "      <td>10392</td>\n",
       "      <td>spleen</td>\n",
       "      <td>HPA</td>\n",
       "      <td>3000</td>\n",
       "      <td>3000</td>\n",
       "      <td>0.4</td>\n",
       "      <td>4</td>\n",
       "      <td>1228631 20 1231629 24 1234624 40 1237623 47 12...</td>\n",
       "      <td>82.0</td>\n",
       "      <td>Male</td>\n",
       "    </tr>\n",
       "    <tr>\n",
       "      <th>3</th>\n",
       "      <td>10488</td>\n",
       "      <td>lung</td>\n",
       "      <td>HPA</td>\n",
       "      <td>3000</td>\n",
       "      <td>3000</td>\n",
       "      <td>0.4</td>\n",
       "      <td>4</td>\n",
       "      <td>3446519 15 3449517 17 3452514 20 3455510 24 34...</td>\n",
       "      <td>78.0</td>\n",
       "      <td>Male</td>\n",
       "    </tr>\n",
       "    <tr>\n",
       "      <th>4</th>\n",
       "      <td>10610</td>\n",
       "      <td>spleen</td>\n",
       "      <td>HPA</td>\n",
       "      <td>3000</td>\n",
       "      <td>3000</td>\n",
       "      <td>0.4</td>\n",
       "      <td>4</td>\n",
       "      <td>478925 68 481909 87 484893 105 487863 154 4908...</td>\n",
       "      <td>21.0</td>\n",
       "      <td>Female</td>\n",
       "    </tr>\n",
       "    <tr>\n",
       "      <th>...</th>\n",
       "      <td>...</td>\n",
       "      <td>...</td>\n",
       "      <td>...</td>\n",
       "      <td>...</td>\n",
       "      <td>...</td>\n",
       "      <td>...</td>\n",
       "      <td>...</td>\n",
       "      <td>...</td>\n",
       "      <td>...</td>\n",
       "      <td>...</td>\n",
       "    </tr>\n",
       "    <tr>\n",
       "      <th>346</th>\n",
       "      <td>9517</td>\n",
       "      <td>kidney</td>\n",
       "      <td>HPA</td>\n",
       "      <td>3000</td>\n",
       "      <td>3000</td>\n",
       "      <td>0.4</td>\n",
       "      <td>4</td>\n",
       "      <td>1611763 11 1614753 29 1617750 35 1620746 43 16...</td>\n",
       "      <td>61.0</td>\n",
       "      <td>Male</td>\n",
       "    </tr>\n",
       "    <tr>\n",
       "      <th>347</th>\n",
       "      <td>9769</td>\n",
       "      <td>kidney</td>\n",
       "      <td>HPA</td>\n",
       "      <td>3070</td>\n",
       "      <td>3070</td>\n",
       "      <td>0.4</td>\n",
       "      <td>4</td>\n",
       "      <td>4030400 28 4033466 34 4036526 48 4039594 54 40...</td>\n",
       "      <td>28.0</td>\n",
       "      <td>Male</td>\n",
       "    </tr>\n",
       "    <tr>\n",
       "      <th>348</th>\n",
       "      <td>9777</td>\n",
       "      <td>largeintestine</td>\n",
       "      <td>HPA</td>\n",
       "      <td>3000</td>\n",
       "      <td>3000</td>\n",
       "      <td>0.4</td>\n",
       "      <td>4</td>\n",
       "      <td>538473 13 541468 22 544463 30 547461 35 550459...</td>\n",
       "      <td>84.0</td>\n",
       "      <td>Male</td>\n",
       "    </tr>\n",
       "    <tr>\n",
       "      <th>349</th>\n",
       "      <td>9791</td>\n",
       "      <td>kidney</td>\n",
       "      <td>HPA</td>\n",
       "      <td>3000</td>\n",
       "      <td>3000</td>\n",
       "      <td>0.4</td>\n",
       "      <td>4</td>\n",
       "      <td>334733 33 337729 43 340729 43 343725 51 346723...</td>\n",
       "      <td>28.0</td>\n",
       "      <td>Male</td>\n",
       "    </tr>\n",
       "    <tr>\n",
       "      <th>350</th>\n",
       "      <td>9904</td>\n",
       "      <td>largeintestine</td>\n",
       "      <td>HPA</td>\n",
       "      <td>3000</td>\n",
       "      <td>3000</td>\n",
       "      <td>0.4</td>\n",
       "      <td>4</td>\n",
       "      <td>1009165 7 1012149 28 1015140 38 1018127 51 102...</td>\n",
       "      <td>84.0</td>\n",
       "      <td>Male</td>\n",
       "    </tr>\n",
       "  </tbody>\n",
       "</table>\n",
       "<p>351 rows × 10 columns</p>\n",
       "</div>"
      ],
      "text/plain": [
       "        id           organ data_source  img_height  img_width  pixel_size  \\\n",
       "0    10044        prostate         HPA        3000       3000         0.4   \n",
       "1    10274        prostate         HPA        3000       3000         0.4   \n",
       "2    10392          spleen         HPA        3000       3000         0.4   \n",
       "3    10488            lung         HPA        3000       3000         0.4   \n",
       "4    10610          spleen         HPA        3000       3000         0.4   \n",
       "..     ...             ...         ...         ...        ...         ...   \n",
       "346   9517          kidney         HPA        3000       3000         0.4   \n",
       "347   9769          kidney         HPA        3070       3070         0.4   \n",
       "348   9777  largeintestine         HPA        3000       3000         0.4   \n",
       "349   9791          kidney         HPA        3000       3000         0.4   \n",
       "350   9904  largeintestine         HPA        3000       3000         0.4   \n",
       "\n",
       "     tissue_thickness                                                rle  \\\n",
       "0                   4  1459676 77 1462675 82 1465674 87 1468673 92 14...   \n",
       "1                   4  715707 2 718705 8 721703 11 724701 18 727692 3...   \n",
       "2                   4  1228631 20 1231629 24 1234624 40 1237623 47 12...   \n",
       "3                   4  3446519 15 3449517 17 3452514 20 3455510 24 34...   \n",
       "4                   4  478925 68 481909 87 484893 105 487863 154 4908...   \n",
       "..                ...                                                ...   \n",
       "346                 4  1611763 11 1614753 29 1617750 35 1620746 43 16...   \n",
       "347                 4  4030400 28 4033466 34 4036526 48 4039594 54 40...   \n",
       "348                 4  538473 13 541468 22 544463 30 547461 35 550459...   \n",
       "349                 4  334733 33 337729 43 340729 43 343725 51 346723...   \n",
       "350                 4  1009165 7 1012149 28 1015140 38 1018127 51 102...   \n",
       "\n",
       "      age     sex  \n",
       "0    37.0    Male  \n",
       "1    76.0    Male  \n",
       "2    82.0    Male  \n",
       "3    78.0    Male  \n",
       "4    21.0  Female  \n",
       "..    ...     ...  \n",
       "346  61.0    Male  \n",
       "347  28.0    Male  \n",
       "348  84.0    Male  \n",
       "349  28.0    Male  \n",
       "350  84.0    Male  \n",
       "\n",
       "[351 rows x 10 columns]"
      ]
     },
     "execution_count": 20,
     "metadata": {},
     "output_type": "execute_result"
    }
   ],
   "source": [
    "training"
   ]
  },
  {
   "cell_type": "code",
   "execution_count": 19,
   "id": "321f0a3f-499d-4fd0-8e8e-534f1cfa8700",
   "metadata": {},
   "outputs": [
    {
     "data": {
      "text/plain": [
       "<bound method NDFrame.describe of         id           organ data_source  img_height  img_width  pixel_size  \\\n",
       "0    10044        prostate         HPA        3000       3000         0.4   \n",
       "1    10274        prostate         HPA        3000       3000         0.4   \n",
       "2    10392          spleen         HPA        3000       3000         0.4   \n",
       "3    10488            lung         HPA        3000       3000         0.4   \n",
       "4    10610          spleen         HPA        3000       3000         0.4   \n",
       "..     ...             ...         ...         ...        ...         ...   \n",
       "346   9517          kidney         HPA        3000       3000         0.4   \n",
       "347   9769          kidney         HPA        3070       3070         0.4   \n",
       "348   9777  largeintestine         HPA        3000       3000         0.4   \n",
       "349   9791          kidney         HPA        3000       3000         0.4   \n",
       "350   9904  largeintestine         HPA        3000       3000         0.4   \n",
       "\n",
       "     tissue_thickness                                                rle  \\\n",
       "0                   4  1459676 77 1462675 82 1465674 87 1468673 92 14...   \n",
       "1                   4  715707 2 718705 8 721703 11 724701 18 727692 3...   \n",
       "2                   4  1228631 20 1231629 24 1234624 40 1237623 47 12...   \n",
       "3                   4  3446519 15 3449517 17 3452514 20 3455510 24 34...   \n",
       "4                   4  478925 68 481909 87 484893 105 487863 154 4908...   \n",
       "..                ...                                                ...   \n",
       "346                 4  1611763 11 1614753 29 1617750 35 1620746 43 16...   \n",
       "347                 4  4030400 28 4033466 34 4036526 48 4039594 54 40...   \n",
       "348                 4  538473 13 541468 22 544463 30 547461 35 550459...   \n",
       "349                 4  334733 33 337729 43 340729 43 343725 51 346723...   \n",
       "350                 4  1009165 7 1012149 28 1015140 38 1018127 51 102...   \n",
       "\n",
       "      age     sex  \n",
       "0    37.0    Male  \n",
       "1    76.0    Male  \n",
       "2    82.0    Male  \n",
       "3    78.0    Male  \n",
       "4    21.0  Female  \n",
       "..    ...     ...  \n",
       "346  61.0    Male  \n",
       "347  28.0    Male  \n",
       "348  84.0    Male  \n",
       "349  28.0    Male  \n",
       "350  84.0    Male  \n",
       "\n",
       "[351 rows x 10 columns]>"
      ]
     },
     "execution_count": 19,
     "metadata": {},
     "output_type": "execute_result"
    }
   ],
   "source": [
    "training.describe"
   ]
  },
  {
   "cell_type": "code",
   "execution_count": 16,
   "id": "2d83221b-fa8d-4157-87ab-790f1288d257",
   "metadata": {},
   "outputs": [
    {
     "data": {
      "text/plain": [
       "(351, 10)"
      ]
     },
     "execution_count": 16,
     "metadata": {},
     "output_type": "execute_result"
    }
   ],
   "source": [
    "training.shape"
   ]
  },
  {
   "cell_type": "code",
   "execution_count": 32,
   "id": "7a16c4fb-719f-4b6d-8f08-ca345f893fa0",
   "metadata": {},
   "outputs": [
    {
     "data": {
      "text/html": [
       "<div>\n",
       "<style scoped>\n",
       "    .dataframe tbody tr th:only-of-type {\n",
       "        vertical-align: middle;\n",
       "    }\n",
       "\n",
       "    .dataframe tbody tr th {\n",
       "        vertical-align: top;\n",
       "    }\n",
       "\n",
       "    .dataframe thead th {\n",
       "        text-align: right;\n",
       "    }\n",
       "</style>\n",
       "<table border=\"1\" class=\"dataframe\">\n",
       "  <thead>\n",
       "    <tr style=\"text-align: right;\">\n",
       "      <th></th>\n",
       "      <th>id</th>\n",
       "      <th>organ</th>\n",
       "      <th>data_source</th>\n",
       "      <th>img_height</th>\n",
       "      <th>img_width</th>\n",
       "      <th>pixel_size</th>\n",
       "      <th>tissue_thickness</th>\n",
       "      <th>rle</th>\n",
       "      <th>age</th>\n",
       "      <th>sex</th>\n",
       "    </tr>\n",
       "  </thead>\n",
       "  <tbody>\n",
       "    <tr>\n",
       "      <th>0</th>\n",
       "      <td>10044</td>\n",
       "      <td>prostate</td>\n",
       "      <td>HPA</td>\n",
       "      <td>3000</td>\n",
       "      <td>3000</td>\n",
       "      <td>0.4</td>\n",
       "      <td>4</td>\n",
       "      <td>1459676 77 1462675 82 1465674 87 1468673 92 14...</td>\n",
       "      <td>37.0</td>\n",
       "      <td>Male</td>\n",
       "    </tr>\n",
       "    <tr>\n",
       "      <th>1</th>\n",
       "      <td>10274</td>\n",
       "      <td>prostate</td>\n",
       "      <td>HPA</td>\n",
       "      <td>3000</td>\n",
       "      <td>3000</td>\n",
       "      <td>0.4</td>\n",
       "      <td>4</td>\n",
       "      <td>715707 2 718705 8 721703 11 724701 18 727692 3...</td>\n",
       "      <td>76.0</td>\n",
       "      <td>Male</td>\n",
       "    </tr>\n",
       "    <tr>\n",
       "      <th>2</th>\n",
       "      <td>10392</td>\n",
       "      <td>spleen</td>\n",
       "      <td>HPA</td>\n",
       "      <td>3000</td>\n",
       "      <td>3000</td>\n",
       "      <td>0.4</td>\n",
       "      <td>4</td>\n",
       "      <td>1228631 20 1231629 24 1234624 40 1237623 47 12...</td>\n",
       "      <td>82.0</td>\n",
       "      <td>Male</td>\n",
       "    </tr>\n",
       "    <tr>\n",
       "      <th>3</th>\n",
       "      <td>10488</td>\n",
       "      <td>lung</td>\n",
       "      <td>HPA</td>\n",
       "      <td>3000</td>\n",
       "      <td>3000</td>\n",
       "      <td>0.4</td>\n",
       "      <td>4</td>\n",
       "      <td>3446519 15 3449517 17 3452514 20 3455510 24 34...</td>\n",
       "      <td>78.0</td>\n",
       "      <td>Male</td>\n",
       "    </tr>\n",
       "    <tr>\n",
       "      <th>4</th>\n",
       "      <td>10610</td>\n",
       "      <td>spleen</td>\n",
       "      <td>HPA</td>\n",
       "      <td>3000</td>\n",
       "      <td>3000</td>\n",
       "      <td>0.4</td>\n",
       "      <td>4</td>\n",
       "      <td>478925 68 481909 87 484893 105 487863 154 4908...</td>\n",
       "      <td>21.0</td>\n",
       "      <td>Female</td>\n",
       "    </tr>\n",
       "    <tr>\n",
       "      <th>...</th>\n",
       "      <td>...</td>\n",
       "      <td>...</td>\n",
       "      <td>...</td>\n",
       "      <td>...</td>\n",
       "      <td>...</td>\n",
       "      <td>...</td>\n",
       "      <td>...</td>\n",
       "      <td>...</td>\n",
       "      <td>...</td>\n",
       "      <td>...</td>\n",
       "    </tr>\n",
       "    <tr>\n",
       "      <th>346</th>\n",
       "      <td>9517</td>\n",
       "      <td>kidney</td>\n",
       "      <td>HPA</td>\n",
       "      <td>3000</td>\n",
       "      <td>3000</td>\n",
       "      <td>0.4</td>\n",
       "      <td>4</td>\n",
       "      <td>1611763 11 1614753 29 1617750 35 1620746 43 16...</td>\n",
       "      <td>61.0</td>\n",
       "      <td>Male</td>\n",
       "    </tr>\n",
       "    <tr>\n",
       "      <th>347</th>\n",
       "      <td>9769</td>\n",
       "      <td>kidney</td>\n",
       "      <td>HPA</td>\n",
       "      <td>3070</td>\n",
       "      <td>3070</td>\n",
       "      <td>0.4</td>\n",
       "      <td>4</td>\n",
       "      <td>4030400 28 4033466 34 4036526 48 4039594 54 40...</td>\n",
       "      <td>28.0</td>\n",
       "      <td>Male</td>\n",
       "    </tr>\n",
       "    <tr>\n",
       "      <th>348</th>\n",
       "      <td>9777</td>\n",
       "      <td>largeintestine</td>\n",
       "      <td>HPA</td>\n",
       "      <td>3000</td>\n",
       "      <td>3000</td>\n",
       "      <td>0.4</td>\n",
       "      <td>4</td>\n",
       "      <td>538473 13 541468 22 544463 30 547461 35 550459...</td>\n",
       "      <td>84.0</td>\n",
       "      <td>Male</td>\n",
       "    </tr>\n",
       "    <tr>\n",
       "      <th>349</th>\n",
       "      <td>9791</td>\n",
       "      <td>kidney</td>\n",
       "      <td>HPA</td>\n",
       "      <td>3000</td>\n",
       "      <td>3000</td>\n",
       "      <td>0.4</td>\n",
       "      <td>4</td>\n",
       "      <td>334733 33 337729 43 340729 43 343725 51 346723...</td>\n",
       "      <td>28.0</td>\n",
       "      <td>Male</td>\n",
       "    </tr>\n",
       "    <tr>\n",
       "      <th>350</th>\n",
       "      <td>9904</td>\n",
       "      <td>largeintestine</td>\n",
       "      <td>HPA</td>\n",
       "      <td>3000</td>\n",
       "      <td>3000</td>\n",
       "      <td>0.4</td>\n",
       "      <td>4</td>\n",
       "      <td>1009165 7 1012149 28 1015140 38 1018127 51 102...</td>\n",
       "      <td>84.0</td>\n",
       "      <td>Male</td>\n",
       "    </tr>\n",
       "  </tbody>\n",
       "</table>\n",
       "<p>351 rows × 10 columns</p>\n",
       "</div>"
      ],
      "text/plain": [
       "        id           organ data_source  img_height  img_width  pixel_size  \\\n",
       "0    10044        prostate         HPA        3000       3000         0.4   \n",
       "1    10274        prostate         HPA        3000       3000         0.4   \n",
       "2    10392          spleen         HPA        3000       3000         0.4   \n",
       "3    10488            lung         HPA        3000       3000         0.4   \n",
       "4    10610          spleen         HPA        3000       3000         0.4   \n",
       "..     ...             ...         ...         ...        ...         ...   \n",
       "346   9517          kidney         HPA        3000       3000         0.4   \n",
       "347   9769          kidney         HPA        3070       3070         0.4   \n",
       "348   9777  largeintestine         HPA        3000       3000         0.4   \n",
       "349   9791          kidney         HPA        3000       3000         0.4   \n",
       "350   9904  largeintestine         HPA        3000       3000         0.4   \n",
       "\n",
       "     tissue_thickness                                                rle  \\\n",
       "0                   4  1459676 77 1462675 82 1465674 87 1468673 92 14...   \n",
       "1                   4  715707 2 718705 8 721703 11 724701 18 727692 3...   \n",
       "2                   4  1228631 20 1231629 24 1234624 40 1237623 47 12...   \n",
       "3                   4  3446519 15 3449517 17 3452514 20 3455510 24 34...   \n",
       "4                   4  478925 68 481909 87 484893 105 487863 154 4908...   \n",
       "..                ...                                                ...   \n",
       "346                 4  1611763 11 1614753 29 1617750 35 1620746 43 16...   \n",
       "347                 4  4030400 28 4033466 34 4036526 48 4039594 54 40...   \n",
       "348                 4  538473 13 541468 22 544463 30 547461 35 550459...   \n",
       "349                 4  334733 33 337729 43 340729 43 343725 51 346723...   \n",
       "350                 4  1009165 7 1012149 28 1015140 38 1018127 51 102...   \n",
       "\n",
       "      age     sex  \n",
       "0    37.0    Male  \n",
       "1    76.0    Male  \n",
       "2    82.0    Male  \n",
       "3    78.0    Male  \n",
       "4    21.0  Female  \n",
       "..    ...     ...  \n",
       "346  61.0    Male  \n",
       "347  28.0    Male  \n",
       "348  84.0    Male  \n",
       "349  28.0    Male  \n",
       "350  84.0    Male  \n",
       "\n",
       "[351 rows x 10 columns]"
      ]
     },
     "execution_count": 32,
     "metadata": {},
     "output_type": "execute_result"
    }
   ],
   "source": [
    "training"
   ]
  },
  {
   "cell_type": "code",
   "execution_count": 49,
   "id": "67c66431-af8a-4119-b19f-3a799e9aa643",
   "metadata": {},
   "outputs": [
    {
     "data": {
      "text/plain": [
       "9000000"
      ]
     },
     "execution_count": 49,
     "metadata": {},
     "output_type": "execute_result"
    }
   ],
   "source": [
    "3000 * 3000"
   ]
  },
  {
   "cell_type": "code",
   "execution_count": 57,
   "id": "fbad05a8-b6f2-47b3-97bd-c2161ed2c252",
   "metadata": {},
   "outputs": [
    {
     "data": {
      "text/plain": [
       "' 50 8422377 47 8425383 34'"
      ]
     },
     "execution_count": 57,
     "metadata": {},
     "output_type": "execute_result"
    }
   ],
   "source": [
    "training[\"rle\"][300][-25:]"
   ]
  },
  {
   "cell_type": "code",
   "execution_count": 31,
   "id": "8ebff815-5f54-4cc4-8aaf-0c9bd0ae8425",
   "metadata": {},
   "outputs": [
    {
     "data": {
      "text/plain": [
       "0      10044\n",
       "1      10274\n",
       "2      10392\n",
       "3      10488\n",
       "4      10610\n",
       "       ...  \n",
       "346     9517\n",
       "347     9769\n",
       "348     9777\n",
       "349     9791\n",
       "350     9904\n",
       "Name: id, Length: 351, dtype: int64"
      ]
     },
     "execution_count": 31,
     "metadata": {},
     "output_type": "execute_result"
    }
   ],
   "source": [
    "training[\"id\"]"
   ]
  },
  {
   "cell_type": "code",
   "execution_count": 37,
   "id": "0ff50d0a-53cb-42a8-9186-87692950875a",
   "metadata": {},
   "outputs": [
    {
     "data": {
      "text/plain": [
       "count        351\n",
       "unique         5\n",
       "top       kidney\n",
       "freq          99\n",
       "Name: organ, dtype: object"
      ]
     },
     "execution_count": 37,
     "metadata": {},
     "output_type": "execute_result"
    }
   ],
   "source": [
    "training[\"organ\"].describe()"
   ]
  },
  {
   "cell_type": "code",
   "execution_count": 39,
   "id": "c447002e-9cbe-4180-96ec-99a93bca4542",
   "metadata": {},
   "outputs": [],
   "source": [
    "training[\"organ\"] = training[\"organ\"].astype(\"category\")"
   ]
  },
  {
   "cell_type": "code",
   "execution_count": 44,
   "id": "9424319c-cdc4-40e6-9236-0f6608eeb4c5",
   "metadata": {},
   "outputs": [
    {
     "data": {
      "text/plain": [
       "count        351\n",
       "unique         5\n",
       "top       kidney\n",
       "freq          99\n",
       "Name: organ, dtype: object"
      ]
     },
     "execution_count": 44,
     "metadata": {},
     "output_type": "execute_result"
    }
   ],
   "source": [
    "training[\"organ\"].describe()"
   ]
  },
  {
   "cell_type": "code",
   "execution_count": 43,
   "id": "0b40f099-3ecf-4f53-ab3f-afc2f0ca2670",
   "metadata": {},
   "outputs": [
    {
     "data": {
      "text/plain": [
       "(array([93.,  0., 53.,  0.,  0., 48.,  0., 99.,  0., 58.]),\n",
       " array([0. , 0.4, 0.8, 1.2, 1.6, 2. , 2.4, 2.8, 3.2, 3.6, 4. ]),\n",
       " <BarContainer object of 10 artists>)"
      ]
     },
     "execution_count": 43,
     "metadata": {},
     "output_type": "execute_result"
    },
    {
     "data": {
      "image/png": "[encoded data removed]",
      "text/plain": [
       "<Figure size 432x288 with 1 Axes>"
      ]
     },
     "metadata": {
      "needs_background": "light"
     },
     "output_type": "display_data"
    }
   ],
   "source": [
    "plt.hist(list(training[\"organ\"]))"
   ]
  },
  {
   "cell_type": "code",
   "execution_count": 48,
   "id": "0feb8cda-86bc-48e8-843a-7570181ce1af",
   "metadata": {},
   "outputs": [
    {
     "data": {
      "text/plain": [
       "(array([0., 0., 0., 0., 0., 1., 0., 0., 0., 0.]),\n",
       " array([-0.5, -0.4, -0.3, -0.2, -0.1,  0. ,  0.1,  0.2,  0.3,  0.4,  0.5]),\n",
       " <BarContainer object of 10 artists>)"
      ]
     },
     "execution_count": 48,
     "metadata": {},
     "output_type": "execute_result"
    },
    {
     "data": {
      "image/png": "[encoded data removed]",
      "text/plain": [
       "<Figure size 432x288 with 1 Axes>"
      ]
     },
     "metadata": {
      "needs_background": "light"
     },
     "output_type": "display_data"
    }
   ],
   "source": [
    "plt.hist(list(test[\"organ\"]))"
   ]
  },
  {
   "cell_type": "code",
   "execution_count": 45,
   "id": "41fa2b4c-7398-4cd6-b3e0-c24ff6cdf8a7",
   "metadata": {},
   "outputs": [
    {
     "data": {
      "text/plain": [
       "(array([13., 12., 10., 23., 28., 64., 72., 31., 39., 59.]),\n",
       " array([21. , 27.3, 33.6, 39.9, 46.2, 52.5, 58.8, 65.1, 71.4, 77.7, 84. ]),\n",
       " <BarContainer object of 10 artists>)"
      ]
     },
     "execution_count": 45,
     "metadata": {},
     "output_type": "execute_result"
    },
    {
     "data": {
      "image/png": "[encoded data removed]",
      "text/plain": [
       "<Figure size 432x288 with 1 Axes>"
      ]
     },
     "metadata": {
      "needs_background": "light"
     },
     "output_type": "display_data"
    }
   ],
   "source": [
    "plt.hist(list(training[\"age\"]))"
   ]
  },
  {
   "cell_type": "code",
   "execution_count": 46,
   "id": "6e05f955-561e-42dc-8f26-3e1939a5e334",
   "metadata": {},
   "outputs": [
    {
     "data": {
      "text/plain": [
       "(array([229.,   0.,   0.,   0.,   0.,   0.,   0.,   0.,   0., 122.]),\n",
       " array([0. , 0.1, 0.2, 0.3, 0.4, 0.5, 0.6, 0.7, 0.8, 0.9, 1. ]),\n",
       " <BarContainer object of 10 artists>)"
      ]
     },
     "execution_count": 46,
     "metadata": {},
     "output_type": "execute_result"
    },
    {
     "data": {
      "image/png": "[encoded data removed]",
      "text/plain": [
       "<Figure size 432x288 with 1 Axes>"
      ]
     },
     "metadata": {
      "needs_background": "light"
     },
     "output_type": "display_data"
    }
   ],
   "source": [
    "plt.hist(list(training[\"sex\"]))"
   ]
  },
  {
   "cell_type": "code",
   "execution_count": 33,
   "id": "1f10da25-f300-4b22-bc1d-d8e090f0e240",
   "metadata": {},
   "outputs": [
    {
     "name": "stdout",
     "output_type": "stream",
     "text": [
      "n = 351\n",
      "351\n",
      "326\n",
      "326\n",
      "351\n",
      "351\n"
     ]
    }
   ],
   "source": [
    "print(\"n = \" + str(training.shape[0]))\n",
    "print(sum(training[\"pixel_size\"] == 0.4))\n",
    "print(sum(training[\"img_height\"] == 3000))\n",
    "print(sum(training[\"img_width\"] == 3000))\n",
    "print(sum(training[\"tissue_thickness\"] == 4))\n",
    "print(sum(training[\"data_source\"] == \"HPA\"))\n",
    "print"
   ]
  },
  {
   "cell_type": "code",
   "execution_count": 120,
   "id": "6f67ae4a-cca1-439f-8dfa-fdf4878a8cc4",
   "metadata": {},
   "outputs": [
    {
     "name": "stdout",
     "output_type": "stream",
     "text": [
      "[21.0, 21.0, 21.0, 21.0, 21.0, 21.0, 21.0, 50.0, 50.0, 50.0, 50.0, 50.0, 50.0, 50.0, 50.0, 50.0, 57.0, 57.0, 57.0, 57.0, 57.0, 57.0, 57.0, 57.0, 57.0, 57.0, 57.0, 57.0, 57.0, 70.0, 70.0, 72.0, 72.0, 72.0, 72.0, 72.0, 74.0, 74.0, 74.0, 74.0, 74.0, 74.0, 74.0, 74.0, 74.0, 74.0, 82.0, 82.0, 82.0, 82.0, 82.0, 82.0, 82.0]\n"
     ]
    }
   ],
   "source": [
    "qq = list(training[temp][\"age\"])\n",
    "qq.sort()\n",
    "print(qq)"
   ]
  },
  {
   "cell_type": "code",
   "execution_count": 116,
   "id": "ee3358c3-e49d-4be0-95c4-6eb85fea8659",
   "metadata": {},
   "outputs": [
    {
     "data": {
      "text/plain": [
       "(array([ 7.,  0.,  0.,  0.,  9., 13.,  0.,  0., 17.,  7.]),\n",
       " array([21. , 27.1, 33.2, 39.3, 45.4, 51.5, 57.6, 63.7, 69.8, 75.9, 82. ]),\n",
       " <BarContainer object of 10 artists>)"
      ]
     },
     "execution_count": 116,
     "metadata": {},
     "output_type": "execute_result"
    },
    {
     "data": {
      "image/png": "[encoded data removed]",
      "text/plain": [
       "<Figure size 864x1152 with 1 Axes>"
      ]
     },
     "metadata": {
      "needs_background": "light"
     },
     "output_type": "display_data"
    }
   ],
   "source": [
    "temp = training[\"organ\"] == \"spleen\"\n",
    "plt.hist(list(training[temp][\"age\"]))"
   ]
  },
  {
   "cell_type": "code",
   "execution_count": 19,
   "id": "01e68cf0-c635-48e5-90c0-244380746cfd",
   "metadata": {},
   "outputs": [],
   "source": [
    "rle = list(training[training[\"organ\"] == \"spleen\"][\"rle\"])"
   ]
  },
  {
   "cell_type": "code",
   "execution_count": 49,
   "id": "7e689d63-048b-4a07-8f1f-32942c41f425",
   "metadata": {
    "tags": []
   },
   "outputs": [
    {
     "data": {
      "text/plain": [
       "2      82.0\n",
       "4      21.0\n",
       "8      50.0\n",
       "12     74.0\n",
       "14     21.0\n",
       "15     21.0\n",
       "19     74.0\n",
       "24     57.0\n",
       "31     74.0\n",
       "34     72.0\n",
       "48     50.0\n",
       "59     74.0\n",
       "94     74.0\n",
       "98     50.0\n",
       "99     57.0\n",
       "100    21.0\n",
       "101    72.0\n",
       "105    82.0\n",
       "114    82.0\n",
       "116    82.0\n",
       "126    50.0\n",
       "134    57.0\n",
       "139    82.0\n",
       "140    50.0\n",
       "165    50.0\n",
       "170    74.0\n",
       "180    50.0\n",
       "195    74.0\n",
       "196    21.0\n",
       "202    70.0\n",
       "209    21.0\n",
       "211    72.0\n",
       "215    70.0\n",
       "216    50.0\n",
       "226    57.0\n",
       "232    57.0\n",
       "242    74.0\n",
       "243    57.0\n",
       "244    74.0\n",
       "249    57.0\n",
       "252    74.0\n",
       "256    21.0\n",
       "264    72.0\n",
       "272    57.0\n",
       "278    72.0\n",
       "293    50.0\n",
       "307    57.0\n",
       "313    82.0\n",
       "321    57.0\n",
       "334    57.0\n",
       "335    57.0\n",
       "340    57.0\n",
       "344    82.0\n",
       "Name: age, dtype: float64"
      ]
     },
     "execution_count": 49,
     "metadata": {},
     "output_type": "execute_result"
    }
   ],
   "source": [
    "training[training[\"organ\"] == \"spleen\"][\"age\"]"
   ]
  },
  {
   "cell_type": "code",
   "execution_count": 80,
   "id": "f9082d90-3500-4607-b91c-7c63349cb915",
   "metadata": {},
   "outputs": [],
   "source": [
    "spleenPixCounts = []\n",
    "# spleenMasks\n",
    "for i in rle:\n",
    "    pix, mask = getTotalPixelCountAndMaskFromRLE(i)\n",
    "    spleenPixCounts.append(pix)"
   ]
  },
  {
   "cell_type": "code",
   "execution_count": 81,
   "id": "bcd3fb69-4bd9-4603-a019-204581486b43",
   "metadata": {
    "tags": []
   },
   "outputs": [],
   "source": [
    "spleenAges = list(training[training[\"organ\"] == \"spleen\"][\"age\"].astype(\"int\"))"
   ]
  },
  {
   "cell_type": "code",
   "execution_count": 82,
   "id": "e7573393-d1e2-4662-8a70-ab96bea71153",
   "metadata": {
    "collapsed": true,
    "jupyter": {
     "outputs_hidden": true
    },
    "tags": []
   },
   "outputs": [
    {
     "data": {
      "text/plain": [
       "[790411,\n",
       " 439839,\n",
       " 1770613,\n",
       " 789171,\n",
       " 466124,\n",
       " 764945,\n",
       " 1369600,\n",
       " 3089924,\n",
       " 1221921,\n",
       " 731387,\n",
       " 1269334,\n",
       " 1064699,\n",
       " 1567682,\n",
       " 300411,\n",
       " 989406,\n",
       " 1605422,\n",
       " 1304590,\n",
       " 398684,\n",
       " 1010949,\n",
       " 559740,\n",
       " 304261,\n",
       " 1423118,\n",
       " 322433,\n",
       " 630231,\n",
       " 569155,\n",
       " 224760,\n",
       " 247088,\n",
       " 391934,\n",
       " 559756,\n",
       " 451895,\n",
       " 1314869,\n",
       " 1704265,\n",
       " 222446,\n",
       " 281386,\n",
       " 1265982,\n",
       " 1561998,\n",
       " 1627315,\n",
       " 72701,\n",
       " 992776,\n",
       " 503859,\n",
       " 1088974,\n",
       " 480273,\n",
       " 1239919,\n",
       " 1321565,\n",
       " 541583,\n",
       " 360158,\n",
       " 408682,\n",
       " 437472,\n",
       " 1031143,\n",
       " 771833,\n",
       " 2332526,\n",
       " 207996,\n",
       " 822087]"
      ]
     },
     "execution_count": 82,
     "metadata": {},
     "output_type": "execute_result"
    }
   ],
   "source": [
    "spleenPixCounts"
   ]
  },
  {
   "cell_type": "code",
   "execution_count": 91,
   "id": "eeffe0be-8b81-447f-909d-e8fd403170b2",
   "metadata": {},
   "outputs": [],
   "source": [
    "spleenPixCountsAndAge = list(zip(spleenPixCounts, spleenAges))"
   ]
  },
  {
   "cell_type": "code",
   "execution_count": 73,
   "id": "7c31e7ad-c058-4f20-b9d9-5b626c1923c5",
   "metadata": {},
   "outputs": [
    {
     "data": {
      "text/plain": [
       "<Figure size 960x1280 with 0 Axes>"
      ]
     },
     "execution_count": 73,
     "metadata": {},
     "output_type": "execute_result"
    },
    {
     "data": {
      "text/plain": [
       "<Figure size 960x1280 with 0 Axes>"
      ]
     },
     "metadata": {},
     "output_type": "display_data"
    }
   ],
   "source": [
    "from matplotlib.pyplot import figure\n",
    "\n",
    "figure(figsize=(12, 16), dpi=80)"
   ]
  },
  {
   "cell_type": "code",
   "execution_count": 75,
   "id": "3cb6527b-3b28-4339-bc1a-b95aa1ab86e7",
   "metadata": {},
   "outputs": [],
   "source": [
    "\n",
    "plt.rcParams[\"figure.figsize\"] = (12,16)"
   ]
  },
  {
   "cell_type": "code",
   "execution_count": 93,
   "id": "58241c9d-3bef-44fb-a56a-33ea078d783a",
   "metadata": {
    "tags": []
   },
   "outputs": [],
   "source": [
    "ageGroups = {}\n",
    "for i in spleenAges:\n",
    "    if i not in ageGroups:\n",
    "        ageGroups[i] = []\n",
    "ageGroups\n",
    "for i in spleenPixCountsAndAge:\n",
    "    ageGroups[i[1]].append(i[0])"
   ]
  },
  {
   "cell_type": "code",
   "execution_count": 94,
   "id": "3a6c6ac9-47ad-4f89-b723-54a8e7e46510",
   "metadata": {},
   "outputs": [
    {
     "data": {
      "text/plain": [
       "{82: [790411, 398684, 1010949, 559740, 322433, 437472, 822087],\n",
       " 21: [439839, 466124, 764945, 1605422, 559756, 1314869, 480273],\n",
       " 50: [1770613,\n",
       "  1269334,\n",
       "  300411,\n",
       "  304261,\n",
       "  630231,\n",
       "  569155,\n",
       "  247088,\n",
       "  281386,\n",
       "  360158],\n",
       " 74: [789171,\n",
       "  1369600,\n",
       "  1221921,\n",
       "  1064699,\n",
       "  1567682,\n",
       "  224760,\n",
       "  391934,\n",
       "  1627315,\n",
       "  992776,\n",
       "  1088974],\n",
       " 57: [3089924,\n",
       "  989406,\n",
       "  1423118,\n",
       "  1265982,\n",
       "  1561998,\n",
       "  72701,\n",
       "  503859,\n",
       "  1321565,\n",
       "  408682,\n",
       "  1031143,\n",
       "  771833,\n",
       "  2332526,\n",
       "  207996],\n",
       " 72: [731387, 1304590, 1704265, 1239919, 541583],\n",
       " 70: [451895, 222446]}"
      ]
     },
     "execution_count": 94,
     "metadata": {},
     "output_type": "execute_result"
    }
   ],
   "source": [
    "ageGroups"
   ]
  },
  {
   "cell_type": "code",
   "execution_count": 103,
   "id": "1f2f2f8b-c86e-48f4-be01-066476fda576",
   "metadata": {},
   "outputs": [],
   "source": [
    "from collections import OrderedDict"
   ]
  },
  {
   "cell_type": "code",
   "execution_count": 107,
   "id": "4541fd1e-f4b7-491e-9807-e6248f0ec516",
   "metadata": {},
   "outputs": [
    {
     "data": {
      "text/plain": [
       "OrderedDict([(21, [439839, 466124, 764945, 1605422, 559756, 1314869, 480273]),\n",
       "             (50,\n",
       "              [1770613,\n",
       "               1269334,\n",
       "               300411,\n",
       "               304261,\n",
       "               630231,\n",
       "               569155,\n",
       "               247088,\n",
       "               281386,\n",
       "               360158]),\n",
       "             (57,\n",
       "              [3089924,\n",
       "               989406,\n",
       "               1423118,\n",
       "               1265982,\n",
       "               1561998,\n",
       "               72701,\n",
       "               503859,\n",
       "               1321565,\n",
       "               408682,\n",
       "               1031143,\n",
       "               771833,\n",
       "               2332526,\n",
       "               207996]),\n",
       "             (70, [451895, 222446]),\n",
       "             (72, [731387, 1304590, 1704265, 1239919, 541583]),\n",
       "             (74,\n",
       "              [789171,\n",
       "               1369600,\n",
       "               1221921,\n",
       "               1064699,\n",
       "               1567682,\n",
       "               224760,\n",
       "               391934,\n",
       "               1627315,\n",
       "               992776,\n",
       "               1088974]),\n",
       "             (82, [790411, 398684, 1010949, 559740, 322433, 437472, 822087])])"
      ]
     },
     "execution_count": 107,
     "metadata": {},
     "output_type": "execute_result"
    }
   ],
   "source": [
    "ageGroups"
   ]
  },
  {
   "cell_type": "code",
   "execution_count": 123,
   "id": "726e06e3-932d-4f00-8ce4-d7e6497384b0",
   "metadata": {
    "tags": []
   },
   "outputs": [
    {
     "data": {
      "text/plain": [
       "[[439839, 466124, 764945, 1605422, 559756, 1314869, 480273],\n",
       " [1770613, 1269334, 300411, 304261, 630231, 569155, 247088, 281386, 360158],\n",
       " [3089924,\n",
       "  989406,\n",
       "  1423118,\n",
       "  1265982,\n",
       "  1561998,\n",
       "  72701,\n",
       "  503859,\n",
       "  1321565,\n",
       "  408682,\n",
       "  1031143,\n",
       "  771833,\n",
       "  2332526,\n",
       "  207996],\n",
       " [451895, 222446],\n",
       " [731387, 1304590, 1704265, 1239919, 541583],\n",
       " [789171,\n",
       "  1369600,\n",
       "  1221921,\n",
       "  1064699,\n",
       "  1567682,\n",
       "  224760,\n",
       "  391934,\n",
       "  1627315,\n",
       "  992776,\n",
       "  1088974],\n",
       " [790411, 398684, 1010949, 559740, 322433, 437472, 822087]]"
      ]
     },
     "execution_count": 123,
     "metadata": {},
     "output_type": "execute_result"
    }
   ],
   "source": [
    "zz"
   ]
  },
  {
   "cell_type": "code",
   "execution_count": 122,
   "id": "02b51473-0e9e-407d-b5b4-70fab276d4b2",
   "metadata": {},
   "outputs": [
    {
     "data": {
      "image/png": "[encoded data removed]",
      "text/plain": [
       "<Figure size 864x720 with 1 Axes>"
      ]
     },
     "metadata": {
      "needs_background": "light"
     },
     "output_type": "display_data"
    }
   ],
   "source": [
    "ageGroups = OrderedDict(sorted(ageGroups.items()))\n",
    "\n",
    "allNumes = []\n",
    "zz = []\n",
    "for i in ageGroups:\n",
    "    zz.append(ageGroups[i])\n",
    "    allNumes.extend(ageGroups[i])\n",
    "allNumes.sort()\n",
    "\n",
    "fig = plt.figure(figsize = (12, 10))\n",
    "ax = fig.add_axes([0, 0, 1,1,])\n",
    "bp = ax.boxplot(zz)\n",
    "# plt.xlabel(list(ageGroups.keys()))\n",
    "ax.set_xticklabels(ageGroups.keys())\n",
    "# ax.set_yticklabels(allNumes)\n",
    "plt.show()"
   ]
  },
  {
   "cell_type": "code",
   "execution_count": 37,
   "id": "2debcd86-cf87-4ea6-9685-d913c8105571",
   "metadata": {},
   "outputs": [
    {
     "data": {
      "text/plain": [
       "array([4, 5, 6, 7, 8, 9])"
      ]
     },
     "execution_count": 37,
     "metadata": {},
     "output_type": "execute_result"
    }
   ],
   "source": [
    "np.arange(4, 10)"
   ]
  },
  {
   "cell_type": "code",
   "execution_count": null,
   "id": "e9d62366-f824-4423-9d30-d6d487951db1",
   "metadata": {},
   "outputs": [],
   "source": []
  },
  {
   "cell_type": "code",
   "execution_count": 79,
   "id": "8de4e02f-31af-4042-8919-f0b690bc44c4",
   "metadata": {},
   "outputs": [],
   "source": [
    "def getTotalPixelCountAndMaskFromRLE(rle):\n",
    "    first = rle.split()\n",
    "    # first is just a string here\n",
    "    totalPix = 0\n",
    "    mask = []\n",
    "    for i in range(0, len(first), 2):\n",
    "        # print(first[i], first[i + 1])\n",
    "        totalPix = totalPix + int(first[i + 1])\n",
    "        mask.extend(np.arange(int(first[i]), int(first[i]) + int(first[i+1])))\n",
    "    return int(totalPix), mask"
   ]
  },
  {
   "cell_type": "code",
   "execution_count": 28,
   "id": "046e3a55-75fe-4c3d-8b56-4c860ee44d2e",
   "metadata": {},
   "outputs": [
    {
     "name": "stdout",
     "output_type": "stream",
     "text": [
      "2\n",
      "3\n",
      "4\n",
      "5\n"
     ]
    }
   ],
   "source": [
    "for x in range(2, 6):\n",
    "    print(x)"
   ]
  },
  {
   "cell_type": "code",
   "execution_count": null,
   "id": "40b28b89-c750-438a-87a3-183a9df40345",
   "metadata": {},
   "outputs": [],
   "source": []
  }
 ],
 "metadata": {
  "kernelspec": {
   "display_name": "Python 3 (ipykernel)",
   "language": "python",
   "name": "python3"
  },
  "language_info": {
   "codemirror_mode": {
    "name": "ipython",
    "version": 3
   },
   "file_extension": ".py",
   "mimetype": "text/x-python",
   "name": "python",
   "nbconvert_exporter": "python",
   "pygments_lexer": "ipython3",
   "version": "3.9.12"
  }
 },
 "nbformat": 4,
 "nbformat_minor": 5
}
