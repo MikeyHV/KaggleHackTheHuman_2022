{
 "cells": [
  {
   "cell_type": "code",
   "execution_count": 8,
   "id": "91dc388e-83b6-4b91-8252-46ec0f02812f",
   "metadata": {},
   "outputs": [
    {
     "name": "stdout",
     "output_type": "stream",
     "text": [
      "/Users/me/Desktop/School/KaggleHackTheHuman_2022\n"
     ]
    }
   ],
   "source": [
    "cd ../"
   ]
  },
  {
   "cell_type": "code",
   "execution_count": 2,
   "id": "18164065-2b76-4253-908f-836396aad9be",
   "metadata": {},
   "outputs": [],
   "source": [
    "import pandas as pd\n",
    "import matplotlib.pyplot as plt"
   ]
  },
  {
   "cell_type": "code",
   "execution_count": 10,
   "id": "5fdbc5ef-aae9-4fa9-a580-e0cb0990ea3e",
   "metadata": {},
   "outputs": [
    {
     "name": "stdout",
     "output_type": "stream",
     "text": [
      "README.md                        \u001b[34mipynbs\u001b[m\u001b[m/\n",
      "\u001b[34mdata\u001b[m\u001b[m/                            sample_submission.csv\n",
      "hubmap-organ-segmentation.zip    test.csv\n",
      "inference-fastai-baseline.ipynb  train.csv\n"
     ]
    }
   ],
   "source": [
    "ls"
   ]
  },
  {
   "cell_type": "code",
   "execution_count": 11,
   "id": "f9c85774-27db-460a-87e7-30759bdef5d0",
   "metadata": {},
   "outputs": [],
   "source": [
    "training = pd.read_csv(\"train.csv\")"
   ]
  },
  {
   "cell_type": "code",
   "execution_count": 47,
   "id": "0a9ddc3f-5bc6-4171-868c-d86670d6824c",
   "metadata": {},
   "outputs": [],
   "source": [
    "test = pd.read_csv(\"test.csv\")"
   ]
  },
  {
   "cell_type": "code",
   "execution_count": 20,
   "id": "fdaa5312-980f-456c-8508-69c87cf8a778",
   "metadata": {},
   "outputs": [
    {
     "data": {
      "text/html": [
       "<div>\n",
       "<style scoped>\n",
       "    .dataframe tbody tr th:only-of-type {\n",
       "        vertical-align: middle;\n",
       "    }\n",
       "\n",
       "    .dataframe tbody tr th {\n",
       "        vertical-align: top;\n",
       "    }\n",
       "\n",
       "    .dataframe thead th {\n",
       "        text-align: right;\n",
       "    }\n",
       "</style>\n",
       "<table border=\"1\" class=\"dataframe\">\n",
       "  <thead>\n",
       "    <tr style=\"text-align: right;\">\n",
       "      <th></th>\n",
       "      <th>id</th>\n",
       "      <th>organ</th>\n",
       "      <th>data_source</th>\n",
       "      <th>img_height</th>\n",
       "      <th>img_width</th>\n",
       "      <th>pixel_size</th>\n",
       "      <th>tissue_thickness</th>\n",
       "      <th>rle</th>\n",
       "      <th>age</th>\n",
       "      <th>sex</th>\n",
       "    </tr>\n",
       "  </thead>\n",
       "  <tbody>\n",
       "    <tr>\n",
       "      <th>0</th>\n",
       "      <td>10044</td>\n",
       "      <td>prostate</td>\n",
       "      <td>HPA</td>\n",
       "      <td>3000</td>\n",
       "      <td>3000</td>\n",
       "      <td>0.4</td>\n",
       "      <td>4</td>\n",
       "      <td>1459676 77 1462675 82 1465674 87 1468673 92 14...</td>\n",
       "      <td>37.0</td>\n",
       "      <td>Male</td>\n",
       "    </tr>\n",
       "    <tr>\n",
       "      <th>1</th>\n",
       "      <td>10274</td>\n",
       "      <td>prostate</td>\n",
       "      <td>HPA</td>\n",
       "      <td>3000</td>\n",
       "      <td>3000</td>\n",
       "      <td>0.4</td>\n",
       "      <td>4</td>\n",
       "      <td>715707 2 718705 8 721703 11 724701 18 727692 3...</td>\n",
       "      <td>76.0</td>\n",
       "      <td>Male</td>\n",
       "    </tr>\n",
       "    <tr>\n",
       "      <th>2</th>\n",
       "      <td>10392</td>\n",
       "      <td>spleen</td>\n",
       "      <td>HPA</td>\n",
       "      <td>3000</td>\n",
       "      <td>3000</td>\n",
       "      <td>0.4</td>\n",
       "      <td>4</td>\n",
       "      <td>1228631 20 1231629 24 1234624 40 1237623 47 12...</td>\n",
       "      <td>82.0</td>\n",
       "      <td>Male</td>\n",
       "    </tr>\n",
       "    <tr>\n",
       "      <th>3</th>\n",
       "      <td>10488</td>\n",
       "      <td>lung</td>\n",
       "      <td>HPA</td>\n",
       "      <td>3000</td>\n",
       "      <td>3000</td>\n",
       "      <td>0.4</td>\n",
       "      <td>4</td>\n",
       "      <td>3446519 15 3449517 17 3452514 20 3455510 24 34...</td>\n",
       "      <td>78.0</td>\n",
       "      <td>Male</td>\n",
       "    </tr>\n",
       "    <tr>\n",
       "      <th>4</th>\n",
       "      <td>10610</td>\n",
       "      <td>spleen</td>\n",
       "      <td>HPA</td>\n",
       "      <td>3000</td>\n",
       "      <td>3000</td>\n",
       "      <td>0.4</td>\n",
       "      <td>4</td>\n",
       "      <td>478925 68 481909 87 484893 105 487863 154 4908...</td>\n",
       "      <td>21.0</td>\n",
       "      <td>Female</td>\n",
       "    </tr>\n",
       "    <tr>\n",
       "      <th>...</th>\n",
       "      <td>...</td>\n",
       "      <td>...</td>\n",
       "      <td>...</td>\n",
       "      <td>...</td>\n",
       "      <td>...</td>\n",
       "      <td>...</td>\n",
       "      <td>...</td>\n",
       "      <td>...</td>\n",
       "      <td>...</td>\n",
       "      <td>...</td>\n",
       "    </tr>\n",
       "    <tr>\n",
       "      <th>346</th>\n",
       "      <td>9517</td>\n",
       "      <td>kidney</td>\n",
       "      <td>HPA</td>\n",
       "      <td>3000</td>\n",
       "      <td>3000</td>\n",
       "      <td>0.4</td>\n",
       "      <td>4</td>\n",
       "      <td>1611763 11 1614753 29 1617750 35 1620746 43 16...</td>\n",
       "      <td>61.0</td>\n",
       "      <td>Male</td>\n",
       "    </tr>\n",
       "    <tr>\n",
       "      <th>347</th>\n",
       "      <td>9769</td>\n",
       "      <td>kidney</td>\n",
       "      <td>HPA</td>\n",
       "      <td>3070</td>\n",
       "      <td>3070</td>\n",
       "      <td>0.4</td>\n",
       "      <td>4</td>\n",
       "      <td>4030400 28 4033466 34 4036526 48 4039594 54 40...</td>\n",
       "      <td>28.0</td>\n",
       "      <td>Male</td>\n",
       "    </tr>\n",
       "    <tr>\n",
       "      <th>348</th>\n",
       "      <td>9777</td>\n",
       "      <td>largeintestine</td>\n",
       "      <td>HPA</td>\n",
       "      <td>3000</td>\n",
       "      <td>3000</td>\n",
       "      <td>0.4</td>\n",
       "      <td>4</td>\n",
       "      <td>538473 13 541468 22 544463 30 547461 35 550459...</td>\n",
       "      <td>84.0</td>\n",
       "      <td>Male</td>\n",
       "    </tr>\n",
       "    <tr>\n",
       "      <th>349</th>\n",
       "      <td>9791</td>\n",
       "      <td>kidney</td>\n",
       "      <td>HPA</td>\n",
       "      <td>3000</td>\n",
       "      <td>3000</td>\n",
       "      <td>0.4</td>\n",
       "      <td>4</td>\n",
       "      <td>334733 33 337729 43 340729 43 343725 51 346723...</td>\n",
       "      <td>28.0</td>\n",
       "      <td>Male</td>\n",
       "    </tr>\n",
       "    <tr>\n",
       "      <th>350</th>\n",
       "      <td>9904</td>\n",
       "      <td>largeintestine</td>\n",
       "      <td>HPA</td>\n",
       "      <td>3000</td>\n",
       "      <td>3000</td>\n",
       "      <td>0.4</td>\n",
       "      <td>4</td>\n",
       "      <td>1009165 7 1012149 28 1015140 38 1018127 51 102...</td>\n",
       "      <td>84.0</td>\n",
       "      <td>Male</td>\n",
       "    </tr>\n",
       "  </tbody>\n",
       "</table>\n",
       "<p>351 rows × 10 columns</p>\n",
       "</div>"
      ],
      "text/plain": [
       "        id           organ data_source  img_height  img_width  pixel_size  \\\n",
       "0    10044        prostate         HPA        3000       3000         0.4   \n",
       "1    10274        prostate         HPA        3000       3000         0.4   \n",
       "2    10392          spleen         HPA        3000       3000         0.4   \n",
       "3    10488            lung         HPA        3000       3000         0.4   \n",
       "4    10610          spleen         HPA        3000       3000         0.4   \n",
       "..     ...             ...         ...         ...        ...         ...   \n",
       "346   9517          kidney         HPA        3000       3000         0.4   \n",
       "347   9769          kidney         HPA        3070       3070         0.4   \n",
       "348   9777  largeintestine         HPA        3000       3000         0.4   \n",
       "349   9791          kidney         HPA        3000       3000         0.4   \n",
       "350   9904  largeintestine         HPA        3000       3000         0.4   \n",
       "\n",
       "     tissue_thickness                                                rle  \\\n",
       "0                   4  1459676 77 1462675 82 1465674 87 1468673 92 14...   \n",
       "1                   4  715707 2 718705 8 721703 11 724701 18 727692 3...   \n",
       "2                   4  1228631 20 1231629 24 1234624 40 1237623 47 12...   \n",
       "3                   4  3446519 15 3449517 17 3452514 20 3455510 24 34...   \n",
       "4                   4  478925 68 481909 87 484893 105 487863 154 4908...   \n",
       "..                ...                                                ...   \n",
       "346                 4  1611763 11 1614753 29 1617750 35 1620746 43 16...   \n",
       "347                 4  4030400 28 4033466 34 4036526 48 4039594 54 40...   \n",
       "348                 4  538473 13 541468 22 544463 30 547461 35 550459...   \n",
       "349                 4  334733 33 337729 43 340729 43 343725 51 346723...   \n",
       "350                 4  1009165 7 1012149 28 1015140 38 1018127 51 102...   \n",
       "\n",
       "      age     sex  \n",
       "0    37.0    Male  \n",
       "1    76.0    Male  \n",
       "2    82.0    Male  \n",
       "3    78.0    Male  \n",
       "4    21.0  Female  \n",
       "..    ...     ...  \n",
       "346  61.0    Male  \n",
       "347  28.0    Male  \n",
       "348  84.0    Male  \n",
       "349  28.0    Male  \n",
       "350  84.0    Male  \n",
       "\n",
       "[351 rows x 10 columns]"
      ]
     },
     "execution_count": 20,
     "metadata": {},
     "output_type": "execute_result"
    }
   ],
   "source": [
    "training"
   ]
  },
  {
   "cell_type": "code",
   "execution_count": 19,
   "id": "321f0a3f-499d-4fd0-8e8e-534f1cfa8700",
   "metadata": {},
   "outputs": [
    {
     "data": {
      "text/plain": [
       "<bound method NDFrame.describe of         id           organ data_source  img_height  img_width  pixel_size  \\\n",
       "0    10044        prostate         HPA        3000       3000         0.4   \n",
       "1    10274        prostate         HPA        3000       3000         0.4   \n",
       "2    10392          spleen         HPA        3000       3000         0.4   \n",
       "3    10488            lung         HPA        3000       3000         0.4   \n",
       "4    10610          spleen         HPA        3000       3000         0.4   \n",
       "..     ...             ...         ...         ...        ...         ...   \n",
       "346   9517          kidney         HPA        3000       3000         0.4   \n",
       "347   9769          kidney         HPA        3070       3070         0.4   \n",
       "348   9777  largeintestine         HPA        3000       3000         0.4   \n",
       "349   9791          kidney         HPA        3000       3000         0.4   \n",
       "350   9904  largeintestine         HPA        3000       3000         0.4   \n",
       "\n",
       "     tissue_thickness                                                rle  \\\n",
       "0                   4  1459676 77 1462675 82 1465674 87 1468673 92 14...   \n",
       "1                   4  715707 2 718705 8 721703 11 724701 18 727692 3...   \n",
       "2                   4  1228631 20 1231629 24 1234624 40 1237623 47 12...   \n",
       "3                   4  3446519 15 3449517 17 3452514 20 3455510 24 34...   \n",
       "4                   4  478925 68 481909 87 484893 105 487863 154 4908...   \n",
       "..                ...                                                ...   \n",
       "346                 4  1611763 11 1614753 29 1617750 35 1620746 43 16...   \n",
       "347                 4  4030400 28 4033466 34 4036526 48 4039594 54 40...   \n",
       "348                 4  538473 13 541468 22 544463 30 547461 35 550459...   \n",
       "349                 4  334733 33 337729 43 340729 43 343725 51 346723...   \n",
       "350                 4  1009165 7 1012149 28 1015140 38 1018127 51 102...   \n",
       "\n",
       "      age     sex  \n",
       "0    37.0    Male  \n",
       "1    76.0    Male  \n",
       "2    82.0    Male  \n",
       "3    78.0    Male  \n",
       "4    21.0  Female  \n",
       "..    ...     ...  \n",
       "346  61.0    Male  \n",
       "347  28.0    Male  \n",
       "348  84.0    Male  \n",
       "349  28.0    Male  \n",
       "350  84.0    Male  \n",
       "\n",
       "[351 rows x 10 columns]>"
      ]
     },
     "execution_count": 19,
     "metadata": {},
     "output_type": "execute_result"
    }
   ],
   "source": [
    "training.describe"
   ]
  },
  {
   "cell_type": "code",
   "execution_count": 16,
   "id": "2d83221b-fa8d-4157-87ab-790f1288d257",
   "metadata": {},
   "outputs": [
    {
     "data": {
      "text/plain": [
       "(351, 10)"
      ]
     },
     "execution_count": 16,
     "metadata": {},
     "output_type": "execute_result"
    }
   ],
   "source": [
    "training.shape"
   ]
  },
  {
   "cell_type": "code",
   "execution_count": 32,
   "id": "7a16c4fb-719f-4b6d-8f08-ca345f893fa0",
   "metadata": {},
   "outputs": [
    {
     "data": {
      "text/html": [
       "<div>\n",
       "<style scoped>\n",
       "    .dataframe tbody tr th:only-of-type {\n",
       "        vertical-align: middle;\n",
       "    }\n",
       "\n",
       "    .dataframe tbody tr th {\n",
       "        vertical-align: top;\n",
       "    }\n",
       "\n",
       "    .dataframe thead th {\n",
       "        text-align: right;\n",
       "    }\n",
       "</style>\n",
       "<table border=\"1\" class=\"dataframe\">\n",
       "  <thead>\n",
       "    <tr style=\"text-align: right;\">\n",
       "      <th></th>\n",
       "      <th>id</th>\n",
       "      <th>organ</th>\n",
       "      <th>data_source</th>\n",
       "      <th>img_height</th>\n",
       "      <th>img_width</th>\n",
       "      <th>pixel_size</th>\n",
       "      <th>tissue_thickness</th>\n",
       "      <th>rle</th>\n",
       "      <th>age</th>\n",
       "      <th>sex</th>\n",
       "    </tr>\n",
       "  </thead>\n",
       "  <tbody>\n",
       "    <tr>\n",
       "      <th>0</th>\n",
       "      <td>10044</td>\n",
       "      <td>prostate</td>\n",
       "      <td>HPA</td>\n",
       "      <td>3000</td>\n",
       "      <td>3000</td>\n",
       "      <td>0.4</td>\n",
       "      <td>4</td>\n",
       "      <td>1459676 77 1462675 82 1465674 87 1468673 92 14...</td>\n",
       "      <td>37.0</td>\n",
       "      <td>Male</td>\n",
       "    </tr>\n",
       "    <tr>\n",
       "      <th>1</th>\n",
       "      <td>10274</td>\n",
       "      <td>prostate</td>\n",
       "      <td>HPA</td>\n",
       "      <td>3000</td>\n",
       "      <td>3000</td>\n",
       "      <td>0.4</td>\n",
       "      <td>4</td>\n",
       "      <td>715707 2 718705 8 721703 11 724701 18 727692 3...</td>\n",
       "      <td>76.0</td>\n",
       "      <td>Male</td>\n",
       "    </tr>\n",
       "    <tr>\n",
       "      <th>2</th>\n",
       "      <td>10392</td>\n",
       "      <td>spleen</td>\n",
       "      <td>HPA</td>\n",
       "      <td>3000</td>\n",
       "      <td>3000</td>\n",
       "      <td>0.4</td>\n",
       "      <td>4</td>\n",
       "      <td>1228631 20 1231629 24 1234624 40 1237623 47 12...</td>\n",
       "      <td>82.0</td>\n",
       "      <td>Male</td>\n",
       "    </tr>\n",
       "    <tr>\n",
       "      <th>3</th>\n",
       "      <td>10488</td>\n",
       "      <td>lung</td>\n",
       "      <td>HPA</td>\n",
       "      <td>3000</td>\n",
       "      <td>3000</td>\n",
       "      <td>0.4</td>\n",
       "      <td>4</td>\n",
       "      <td>3446519 15 3449517 17 3452514 20 3455510 24 34...</td>\n",
       "      <td>78.0</td>\n",
       "      <td>Male</td>\n",
       "    </tr>\n",
       "    <tr>\n",
       "      <th>4</th>\n",
       "      <td>10610</td>\n",
       "      <td>spleen</td>\n",
       "      <td>HPA</td>\n",
       "      <td>3000</td>\n",
       "      <td>3000</td>\n",
       "      <td>0.4</td>\n",
       "      <td>4</td>\n",
       "      <td>478925 68 481909 87 484893 105 487863 154 4908...</td>\n",
       "      <td>21.0</td>\n",
       "      <td>Female</td>\n",
       "    </tr>\n",
       "    <tr>\n",
       "      <th>...</th>\n",
       "      <td>...</td>\n",
       "      <td>...</td>\n",
       "      <td>...</td>\n",
       "      <td>...</td>\n",
       "      <td>...</td>\n",
       "      <td>...</td>\n",
       "      <td>...</td>\n",
       "      <td>...</td>\n",
       "      <td>...</td>\n",
       "      <td>...</td>\n",
       "    </tr>\n",
       "    <tr>\n",
       "      <th>346</th>\n",
       "      <td>9517</td>\n",
       "      <td>kidney</td>\n",
       "      <td>HPA</td>\n",
       "      <td>3000</td>\n",
       "      <td>3000</td>\n",
       "      <td>0.4</td>\n",
       "      <td>4</td>\n",
       "      <td>1611763 11 1614753 29 1617750 35 1620746 43 16...</td>\n",
       "      <td>61.0</td>\n",
       "      <td>Male</td>\n",
       "    </tr>\n",
       "    <tr>\n",
       "      <th>347</th>\n",
       "      <td>9769</td>\n",
       "      <td>kidney</td>\n",
       "      <td>HPA</td>\n",
       "      <td>3070</td>\n",
       "      <td>3070</td>\n",
       "      <td>0.4</td>\n",
       "      <td>4</td>\n",
       "      <td>4030400 28 4033466 34 4036526 48 4039594 54 40...</td>\n",
       "      <td>28.0</td>\n",
       "      <td>Male</td>\n",
       "    </tr>\n",
       "    <tr>\n",
       "      <th>348</th>\n",
       "      <td>9777</td>\n",
       "      <td>largeintestine</td>\n",
       "      <td>HPA</td>\n",
       "      <td>3000</td>\n",
       "      <td>3000</td>\n",
       "      <td>0.4</td>\n",
       "      <td>4</td>\n",
       "      <td>538473 13 541468 22 544463 30 547461 35 550459...</td>\n",
       "      <td>84.0</td>\n",
       "      <td>Male</td>\n",
       "    </tr>\n",
       "    <tr>\n",
       "      <th>349</th>\n",
       "      <td>9791</td>\n",
       "      <td>kidney</td>\n",
       "      <td>HPA</td>\n",
       "      <td>3000</td>\n",
       "      <td>3000</td>\n",
       "      <td>0.4</td>\n",
       "      <td>4</td>\n",
       "      <td>334733 33 337729 43 340729 43 343725 51 346723...</td>\n",
       "      <td>28.0</td>\n",
       "      <td>Male</td>\n",
       "    </tr>\n",
       "    <tr>\n",
       "      <th>350</th>\n",
       "      <td>9904</td>\n",
       "      <td>largeintestine</td>\n",
       "      <td>HPA</td>\n",
       "      <td>3000</td>\n",
       "      <td>3000</td>\n",
       "      <td>0.4</td>\n",
       "      <td>4</td>\n",
       "      <td>1009165 7 1012149 28 1015140 38 1018127 51 102...</td>\n",
       "      <td>84.0</td>\n",
       "      <td>Male</td>\n",
       "    </tr>\n",
       "  </tbody>\n",
       "</table>\n",
       "<p>351 rows × 10 columns</p>\n",
       "</div>"
      ],
      "text/plain": [
       "        id           organ data_source  img_height  img_width  pixel_size  \\\n",
       "0    10044        prostate         HPA        3000       3000         0.4   \n",
       "1    10274        prostate         HPA        3000       3000         0.4   \n",
       "2    10392          spleen         HPA        3000       3000         0.4   \n",
       "3    10488            lung         HPA        3000       3000         0.4   \n",
       "4    10610          spleen         HPA        3000       3000         0.4   \n",
       "..     ...             ...         ...         ...        ...         ...   \n",
       "346   9517          kidney         HPA        3000       3000         0.4   \n",
       "347   9769          kidney         HPA        3070       3070         0.4   \n",
       "348   9777  largeintestine         HPA        3000       3000         0.4   \n",
       "349   9791          kidney         HPA        3000       3000         0.4   \n",
       "350   9904  largeintestine         HPA        3000       3000         0.4   \n",
       "\n",
       "     tissue_thickness                                                rle  \\\n",
       "0                   4  1459676 77 1462675 82 1465674 87 1468673 92 14...   \n",
       "1                   4  715707 2 718705 8 721703 11 724701 18 727692 3...   \n",
       "2                   4  1228631 20 1231629 24 1234624 40 1237623 47 12...   \n",
       "3                   4  3446519 15 3449517 17 3452514 20 3455510 24 34...   \n",
       "4                   4  478925 68 481909 87 484893 105 487863 154 4908...   \n",
       "..                ...                                                ...   \n",
       "346                 4  1611763 11 1614753 29 1617750 35 1620746 43 16...   \n",
       "347                 4  4030400 28 4033466 34 4036526 48 4039594 54 40...   \n",
       "348                 4  538473 13 541468 22 544463 30 547461 35 550459...   \n",
       "349                 4  334733 33 337729 43 340729 43 343725 51 346723...   \n",
       "350                 4  1009165 7 1012149 28 1015140 38 1018127 51 102...   \n",
       "\n",
       "      age     sex  \n",
       "0    37.0    Male  \n",
       "1    76.0    Male  \n",
       "2    82.0    Male  \n",
       "3    78.0    Male  \n",
       "4    21.0  Female  \n",
       "..    ...     ...  \n",
       "346  61.0    Male  \n",
       "347  28.0    Male  \n",
       "348  84.0    Male  \n",
       "349  28.0    Male  \n",
       "350  84.0    Male  \n",
       "\n",
       "[351 rows x 10 columns]"
      ]
     },
     "execution_count": 32,
     "metadata": {},
     "output_type": "execute_result"
    }
   ],
   "source": [
    "training"
   ]
  },
  {
   "cell_type": "code",
   "execution_count": 49,
   "id": "67c66431-af8a-4119-b19f-3a799e9aa643",
   "metadata": {},
   "outputs": [
    {
     "data": {
      "text/plain": [
       "9000000"
      ]
     },
     "execution_count": 49,
     "metadata": {},
     "output_type": "execute_result"
    }
   ],
   "source": [
    "3000 * 3000"
   ]
  },
  {
   "cell_type": "code",
   "execution_count": 57,
   "id": "fbad05a8-b6f2-47b3-97bd-c2161ed2c252",
   "metadata": {},
   "outputs": [
    {
     "data": {
      "text/plain": [
       "' 50 8422377 47 8425383 34'"
      ]
     },
     "execution_count": 57,
     "metadata": {},
     "output_type": "execute_result"
    }
   ],
   "source": [
    "training[\"rle\"][300][-25:]"
   ]
  },
  {
   "cell_type": "code",
   "execution_count": 31,
   "id": "8ebff815-5f54-4cc4-8aaf-0c9bd0ae8425",
   "metadata": {},
   "outputs": [
    {
     "data": {
      "text/plain": [
       "0      10044\n",
       "1      10274\n",
       "2      10392\n",
       "3      10488\n",
       "4      10610\n",
       "       ...  \n",
       "346     9517\n",
       "347     9769\n",
       "348     9777\n",
       "349     9791\n",
       "350     9904\n",
       "Name: id, Length: 351, dtype: int64"
      ]
     },
     "execution_count": 31,
     "metadata": {},
     "output_type": "execute_result"
    }
   ],
   "source": [
    "training[\"id\"]"
   ]
  },
  {
   "cell_type": "code",
   "execution_count": 37,
   "id": "0ff50d0a-53cb-42a8-9186-87692950875a",
   "metadata": {},
   "outputs": [
    {
     "data": {
      "text/plain": [
       "count        351\n",
       "unique         5\n",
       "top       kidney\n",
       "freq          99\n",
       "Name: organ, dtype: object"
      ]
     },
     "execution_count": 37,
     "metadata": {},
     "output_type": "execute_result"
    }
   ],
   "source": [
    "training[\"organ\"].describe()"
   ]
  },
  {
   "cell_type": "code",
   "execution_count": 39,
   "id": "c447002e-9cbe-4180-96ec-99a93bca4542",
   "metadata": {},
   "outputs": [],
   "source": [
    "training[\"organ\"] = training[\"organ\"].astype(\"category\")"
   ]
  },
  {
   "cell_type": "code",
   "execution_count": 44,
   "id": "9424319c-cdc4-40e6-9236-0f6608eeb4c5",
   "metadata": {},
   "outputs": [
    {
     "data": {
      "text/plain": [
       "count        351\n",
       "unique         5\n",
       "top       kidney\n",
       "freq          99\n",
       "Name: organ, dtype: object"
      ]
     },
     "execution_count": 44,
     "metadata": {},
     "output_type": "execute_result"
    }
   ],
   "source": [
    "training[\"organ\"].describe()"
   ]
  },
  {
   "cell_type": "code",
   "execution_count": 43,
   "id": "0b40f099-3ecf-4f53-ab3f-afc2f0ca2670",
   "metadata": {},
   "outputs": [
    {
     "data": {
      "text/plain": [
       "(array([93.,  0., 53.,  0.,  0., 48.,  0., 99.,  0., 58.]),\n",
       " array([0. , 0.4, 0.8, 1.2, 1.6, 2. , 2.4, 2.8, 3.2, 3.6, 4. ]),\n",
       " <BarContainer object of 10 artists>)"
      ]
     },
     "execution_count": 43,
     "metadata": {},
     "output_type": "execute_result"
    },
    {
     "data": {
      "image/png": "[encoded data removed]",
      "text/plain": [
       "<Figure size 432x288 with 1 Axes>"
      ]
     },
     "metadata": {
      "needs_background": "light"
     },
     "output_type": "display_data"
    }
   ],
   "source": [
    "plt.hist(list(training[\"organ\"]))"
   ]
  },
  {
   "cell_type": "code",
   "execution_count": 48,
   "id": "0feb8cda-86bc-48e8-843a-7570181ce1af",
   "metadata": {},
   "outputs": [
    {
     "data": {
      "text/plain": [
       "(array([0., 0., 0., 0., 0., 1., 0., 0., 0., 0.]),\n",
       " array([-0.5, -0.4, -0.3, -0.2, -0.1,  0. ,  0.1,  0.2,  0.3,  0.4,  0.5]),\n",
       " <BarContainer object of 10 artists>)"
      ]
     },
     "execution_count": 48,
     "metadata": {},
     "output_type": "execute_result"
    },
    {
     "data": {
      "image/png": "[encoded data removed]",
      "text/plain": [
       "<Figure size 432x288 with 1 Axes>"
      ]
     },
     "metadata": {
      "needs_background": "light"
     },
     "output_type": "display_data"
    }
   ],
   "source": [
    "plt.hist(list(test[\"organ\"]))"
   ]
  },
  {
   "cell_type": "code",
   "execution_count": 45,
   "id": "41fa2b4c-7398-4cd6-b3e0-c24ff6cdf8a7",
   "metadata": {},
   "outputs": [
    {
     "data": {
      "text/plain": [
       "(array([13., 12., 10., 23., 28., 64., 72., 31., 39., 59.]),\n",
       " array([21. , 27.3, 33.6, 39.9, 46.2, 52.5, 58.8, 65.1, 71.4, 77.7, 84. ]),\n",
       " <BarContainer object of 10 artists>)"
      ]
     },
     "execution_count": 45,
     "metadata": {},
     "output_type": "execute_result"
    },
    {
     "data": {
      "image/png": "[encoded data removed]",
      "text/plain": [
       "<Figure size 432x288 with 1 Axes>"
      ]
     },
     "metadata": {
      "needs_background": "light"
     },
     "output_type": "display_data"
    }
   ],
   "source": [
    "plt.hist(list(training[\"age\"]))"
   ]
  },
  {
   "cell_type": "code",
   "execution_count": 46,
   "id": "6e05f955-561e-42dc-8f26-3e1939a5e334",
   "metadata": {},
   "outputs": [
    {
     "data": {
      "text/plain": [
       "(array([229.,   0.,   0.,   0.,   0.,   0.,   0.,   0.,   0., 122.]),\n",
       " array([0. , 0.1, 0.2, 0.3, 0.4, 0.5, 0.6, 0.7, 0.8, 0.9, 1. ]),\n",
       " <BarContainer object of 10 artists>)"
      ]
     },
     "execution_count": 46,
     "metadata": {},
     "output_type": "execute_result"
    },
    {
     "data": {
      "image/png": "[encoded data removed]",
      "text/plain": [
       "<Figure size 432x288 with 1 Axes>"
      ]
     },
     "metadata": {
      "needs_background": "light"
     },
     "output_type": "display_data"
    }
   ],
   "source": [
    "plt.hist(list(training[\"sex\"]))"
   ]
  },
  {
   "cell_type": "code",
   "execution_count": 33,
   "id": "1f10da25-f300-4b22-bc1d-d8e090f0e240",
   "metadata": {},
   "outputs": [
    {
     "name": "stdout",
     "output_type": "stream",
     "text": [
      "n = 351\n",
      "351\n",
      "326\n",
      "326\n",
      "351\n",
      "351\n"
     ]
    }
   ],
   "source": [
    "print(\"n = \" + str(training.shape[0]))\n",
    "print(sum(training[\"pixel_size\"] == 0.4))\n",
    "print(sum(training[\"img_height\"] == 3000))\n",
    "print(sum(training[\"img_width\"] == 3000))\n",
    "print(sum(training[\"tissue_thickness\"] == 4))\n",
    "print(sum(training[\"data_source\"] == \"HPA\"))\n",
    "print"
   ]
  },
  {
   "cell_type": "code",
   "execution_count": null,
   "id": "01e68cf0-c635-48e5-90c0-244380746cfd",
   "metadata": {},
   "outputs": [],
   "source": []
  }
 ],
 "metadata": {
  "kernelspec": {
   "display_name": "Python 3 (ipykernel)",
   "language": "python",
   "name": "python3"
  },
  "language_info": {
   "codemirror_mode": {
    "name": "ipython",
    "version": 3
   },
   "file_extension": ".py",
   "mimetype": "text/x-python",
   "name": "python",
   "nbconvert_exporter": "python",
   "pygments_lexer": "ipython3",
   "version": "3.7.11"
  }
 },
 "nbformat": 4,
 "nbformat_minor": 5
}
